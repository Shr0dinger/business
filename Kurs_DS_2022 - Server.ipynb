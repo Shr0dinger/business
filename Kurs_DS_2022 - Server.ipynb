{
 "cells": [
  {
   "cell_type": "code",
   "execution_count": 1,
   "id": "13a01c53",
   "metadata": {},
   "outputs": [],
   "source": [
    "from flask import Flask, request, jsonify\n",
    "import pandas as pd\n",
    "import dill"
   ]
  },
  {
   "cell_type": "code",
   "execution_count": 2,
   "id": "78271fd5",
   "metadata": {},
   "outputs": [],
   "source": [
    "with open('DTreeReg_pipeline.dill', 'rb') as in_strm:\n",
    "    model = dill.load(in_strm)"
   ]
  },
  {
   "cell_type": "code",
   "execution_count": 3,
   "id": "7a2df4b9",
   "metadata": {},
   "outputs": [
    {
     "name": "stdout",
     "output_type": "stream",
     "text": [
      " * Serving Flask app '__main__' (lazy loading)\n",
      " * Environment: production\n",
      "\u001b[31m   WARNING: This is a development server. Do not use it in a production deployment.\u001b[0m\n",
      "\u001b[2m   Use a production WSGI server instead.\u001b[0m\n",
      " * Debug mode: off\n"
     ]
    },
    {
     "name": "stderr",
     "output_type": "stream",
     "text": [
      " * Running on http://127.0.0.1:5000 (Press CTRL+C to quit)\n",
      "127.0.0.1 - - [24/Jul/2022 12:13:40] \"POST /predict HTTP/1.1\" 200 -\n"
     ]
    },
    {
     "name": "stdout",
     "output_type": "stream",
     "text": [
      "Hatchback\n",
      "OK\n",
      "{'success': True, 'predictions': [7309.191554646405], 'Category': 'Hatchback'}\n"
     ]
    }
   ],
   "source": [
    "# Обработчики и запуск Flask\n",
    "app = Flask(__name__)\n",
    "\n",
    "@app.route(\"/\", methods=[\"GET\"])\n",
    "def general():\n",
    "    return \"Welcome to prediction process\"\n",
    "\n",
    "@app.route('/predict', methods=['POST'])\n",
    "def predict():\n",
    "    data = {\"success\": False}\n",
    "\n",
    "    # ensure an image was properly uploaded to our endpoint\n",
    "    Engine_volume, Mileage, Doors, Prod_year, Cylinders, Airbags, Category, Leather_interior, Fuel_type, Gear_box_type, Drive_wheels, Wheel, Color= \"\", \"\", \"\", \"\", \"\", \"\", \"\", \"\", \"\", \"\", \"\", \"\", \"\"\n",
    "    request_json = request.get_json()\n",
    "    \n",
    "    if request_json[\"Engine_volume\"]:\n",
    "        Engine_volume = request_json['Engine_volume']\n",
    "    \n",
    "    if request_json[\"Mileage\"]:\n",
    "        Mileage = request_json['Mileage']\n",
    "                \n",
    "    if request_json[\"Doors\"]:\n",
    "        Doors = request_json['Doors']\n",
    "    \n",
    "    if request_json[\"Prod_year\"]:\n",
    "        Prod_year = request_json['Prod_year']\n",
    "    \n",
    "    if request_json[\"Cylinders\"]:\n",
    "        Cylinders = request_json['Cylinders']\n",
    "                \n",
    "    if request_json[\"Airbags\"]:\n",
    "        Airbags = request_json['Airbags']\n",
    "    \n",
    "    if request_json[\"Category\"]:\n",
    "        Category = request_json['Category']\n",
    "    \n",
    "    if request_json[\"Leather_interior\"]:\n",
    "        Leather_interior = request_json['Leather_interior']\n",
    "                \n",
    "    if request_json[\"Fuel_type\"]:\n",
    "        Fuel_type = request_json['Fuel_type']\n",
    "    \n",
    "    if request_json[\"Gear_box_type\"]:\n",
    "        Gear_box_type = request_json['Gear_box_type']\n",
    "    \n",
    "    if request_json[\"Drive_wheels\"]:\n",
    "        Drive_wheels = request_json['Drive_wheels']\n",
    "                \n",
    "    if request_json[\"Wheel\"]:\n",
    "        Wheel = request_json['Wheel']\n",
    "    \n",
    "    if request_json[\"Color\"]:\n",
    "        Color = request_json['Color']\n",
    "    \n",
    "    print(Category)  \n",
    "    preds = model.predict(pd.DataFrame({'Engine_volume': [Engine_volume],\n",
    "                                              'Mileage': [Mileage],\n",
    "                                              'Doors': [Doors],\n",
    "                                              'Prod_year': [Prod_year],\n",
    "                                              'Cylinders': [Cylinders],\n",
    "                                              'Airbags': [Airbags],\n",
    "                                              'Category': [Category],\n",
    "                                              'Leather_interior': [Leather_interior],\n",
    "                                              'Fuel_type': [Fuel_type],\n",
    "                                              'Gear_box_type': [Gear_box_type],\n",
    "                                              'Drive_wheels': [Drive_wheels],\n",
    "                                              'Wheel': [Wheel],\n",
    "                                              'Color': [Color]}))\n",
    "    \n",
    "    data[\"predictions\"] = preds.tolist()\n",
    "    data[\"Category\"] = Category\n",
    "        # indicate that the request was a success\n",
    "    data[\"success\"] = True\n",
    "    print('OK')\n",
    "    print(data)\n",
    "\n",
    "        # return the data dictionary as a JSON response\n",
    "    return jsonify(data)\n",
    "\n",
    "\n",
    "if __name__ == '__main__':\n",
    "    app.run()"
   ]
  },
  {
   "cell_type": "code",
   "execution_count": null,
   "id": "ee43a216",
   "metadata": {},
   "outputs": [],
   "source": []
  }
 ],
 "metadata": {
  "kernelspec": {
   "display_name": "Python 3 (ipykernel)",
   "language": "python",
   "name": "python3"
  },
  "language_info": {
   "codemirror_mode": {
    "name": "ipython",
    "version": 3
   },
   "file_extension": ".py",
   "mimetype": "text/x-python",
   "name": "python",
   "nbconvert_exporter": "python",
   "pygments_lexer": "ipython3",
   "version": "3.10.4"
  }
 },
 "nbformat": 4,
 "nbformat_minor": 5
}
