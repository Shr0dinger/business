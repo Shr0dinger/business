{
 "cells": [
  {
   "cell_type": "code",
   "execution_count": 1,
   "id": "18d69d72",
   "metadata": {},
   "outputs": [],
   "source": [
    "import numpy as np\n",
    "import pandas as pd\n",
    "import seaborn as sns\n",
    "import matplotlib.pyplot as plt\n",
    "from sklearn.preprocessing import StandardScaler\n",
    "from sklearn.metrics import log_loss, f1_score, roc_auc_score, precision_score, classification_report \n",
    "from sklearn.metrics import precision_recall_curve, confusion_matrix, roc_curve\n",
    "from scipy import stats\n",
    "from sklearn.preprocessing import OneHotEncoder, OrdinalEncoder, LabelEncoder, LabelBinarizer\n",
    "import pandas as pd; pd.set_option('display.max_columns', None)\n",
    "from sklearn.model_selection import train_test_split\n",
    "from sklift.viz import plot_uplift_curve\n",
    "\n",
    "from sklift.metrics import uplift_at_k\n",
    "from sklift.viz import plot_uplift_preds\n",
    "from sklift.models import SoloModel\n",
    "from catboost import CatBoostClassifier\n",
    "\n",
    "from sklift.models import ClassTransformation\n",
    "from sklift.models import TwoModels\n",
    "\n",
    "from sklearn.utils.validation import check_consistent_length\n",
    "import matplotlib.pyplot as plt\n",
    "\n",
    "import warnings\n",
    "warnings.filterwarnings('ignore')\n",
    "\n",
    "%matplotlib inline"
   ]
  },
  {
   "cell_type": "code",
   "execution_count": 2,
   "id": "6e8edf09",
   "metadata": {},
   "outputs": [
    {
     "data": {
      "text/html": [
       "<div>\n",
       "<style scoped>\n",
       "    .dataframe tbody tr th:only-of-type {\n",
       "        vertical-align: middle;\n",
       "    }\n",
       "\n",
       "    .dataframe tbody tr th {\n",
       "        vertical-align: top;\n",
       "    }\n",
       "\n",
       "    .dataframe thead th {\n",
       "        text-align: right;\n",
       "    }\n",
       "</style>\n",
       "<table border=\"1\" class=\"dataframe\">\n",
       "  <thead>\n",
       "    <tr style=\"text-align: right;\">\n",
       "      <th></th>\n",
       "      <th>recency</th>\n",
       "      <th>history</th>\n",
       "      <th>used_discount</th>\n",
       "      <th>used_bogo</th>\n",
       "      <th>zip_code</th>\n",
       "      <th>is_referral</th>\n",
       "      <th>channel</th>\n",
       "      <th>offer</th>\n",
       "      <th>conversion</th>\n",
       "    </tr>\n",
       "  </thead>\n",
       "  <tbody>\n",
       "    <tr>\n",
       "      <th>4107</th>\n",
       "      <td>2</td>\n",
       "      <td>149.82</td>\n",
       "      <td>1</td>\n",
       "      <td>0</td>\n",
       "      <td>Surburban</td>\n",
       "      <td>1</td>\n",
       "      <td>Web</td>\n",
       "      <td>No Offer</td>\n",
       "      <td>0</td>\n",
       "    </tr>\n",
       "    <tr>\n",
       "      <th>43930</th>\n",
       "      <td>12</td>\n",
       "      <td>98.28</td>\n",
       "      <td>1</td>\n",
       "      <td>0</td>\n",
       "      <td>Urban</td>\n",
       "      <td>1</td>\n",
       "      <td>Phone</td>\n",
       "      <td>Discount</td>\n",
       "      <td>0</td>\n",
       "    </tr>\n",
       "    <tr>\n",
       "      <th>30369</th>\n",
       "      <td>9</td>\n",
       "      <td>434.25</td>\n",
       "      <td>1</td>\n",
       "      <td>0</td>\n",
       "      <td>Urban</td>\n",
       "      <td>1</td>\n",
       "      <td>Phone</td>\n",
       "      <td>Buy One Get One</td>\n",
       "      <td>0</td>\n",
       "    </tr>\n",
       "    <tr>\n",
       "      <th>61339</th>\n",
       "      <td>2</td>\n",
       "      <td>41.08</td>\n",
       "      <td>1</td>\n",
       "      <td>0</td>\n",
       "      <td>Urban</td>\n",
       "      <td>0</td>\n",
       "      <td>Web</td>\n",
       "      <td>Discount</td>\n",
       "      <td>0</td>\n",
       "    </tr>\n",
       "    <tr>\n",
       "      <th>56686</th>\n",
       "      <td>2</td>\n",
       "      <td>40.31</td>\n",
       "      <td>1</td>\n",
       "      <td>0</td>\n",
       "      <td>Urban</td>\n",
       "      <td>1</td>\n",
       "      <td>Phone</td>\n",
       "      <td>No Offer</td>\n",
       "      <td>0</td>\n",
       "    </tr>\n",
       "  </tbody>\n",
       "</table>\n",
       "</div>"
      ],
      "text/plain": [
       "       recency  history  used_discount  used_bogo   zip_code  is_referral  \\\n",
       "4107         2   149.82              1          0  Surburban            1   \n",
       "43930       12    98.28              1          0      Urban            1   \n",
       "30369        9   434.25              1          0      Urban            1   \n",
       "61339        2    41.08              1          0      Urban            0   \n",
       "56686        2    40.31              1          0      Urban            1   \n",
       "\n",
       "      channel            offer  conversion  \n",
       "4107      Web         No Offer           0  \n",
       "43930   Phone         Discount           0  \n",
       "30369   Phone  Buy One Get One           0  \n",
       "61339     Web         Discount           0  \n",
       "56686   Phone         No Offer           0  "
      ]
     },
     "execution_count": 2,
     "metadata": {},
     "output_type": "execute_result"
    }
   ],
   "source": [
    "df = pd.read_csv('data.csv')\n",
    "df.sample(5, random_state=12)"
   ]
  },
  {
   "cell_type": "code",
   "execution_count": 3,
   "id": "30f87b87",
   "metadata": {},
   "outputs": [
    {
     "name": "stdout",
     "output_type": "stream",
     "text": [
      "<class 'pandas.core.frame.DataFrame'>\n",
      "RangeIndex: 64000 entries, 0 to 63999\n",
      "Data columns (total 9 columns):\n",
      " #   Column         Non-Null Count  Dtype  \n",
      "---  ------         --------------  -----  \n",
      " 0   recency        64000 non-null  int64  \n",
      " 1   history        64000 non-null  float64\n",
      " 2   used_discount  64000 non-null  int64  \n",
      " 3   used_bogo      64000 non-null  int64  \n",
      " 4   zip_code       64000 non-null  object \n",
      " 5   is_referral    64000 non-null  int64  \n",
      " 6   channel        64000 non-null  object \n",
      " 7   offer          64000 non-null  object \n",
      " 8   conversion     64000 non-null  int64  \n",
      "dtypes: float64(1), int64(5), object(3)\n",
      "memory usage: 4.4+ MB\n"
     ]
    }
   ],
   "source": [
    "df.info()"
   ]
  },
  {
   "cell_type": "markdown",
   "id": "5b7002a1",
   "metadata": {},
   "source": [
    "### Преобразовываем offer и conversion:"
   ]
  },
  {
   "cell_type": "code",
   "execution_count": 4,
   "id": "95d6b3af",
   "metadata": {},
   "outputs": [],
   "source": [
    "df.rename(columns={'conversion': 'target'}, inplace=True)\n",
    "df.rename(columns={'offer': 'treatment'}, inplace=True)"
   ]
  },
  {
   "cell_type": "code",
   "execution_count": 5,
   "id": "59cc6578",
   "metadata": {},
   "outputs": [
    {
     "data": {
      "text/plain": [
       "Buy One Get One    21387\n",
       "Discount           21307\n",
       "No Offer           21306\n",
       "Name: treatment, dtype: int64"
      ]
     },
     "execution_count": 5,
     "metadata": {},
     "output_type": "execute_result"
    }
   ],
   "source": [
    "df['treatment'].value_counts()"
   ]
  },
  {
   "cell_type": "code",
   "execution_count": 6,
   "id": "d0712597",
   "metadata": {},
   "outputs": [
    {
     "data": {
      "text/plain": [
       "1    42694\n",
       "0    21306\n",
       "Name: treatment, dtype: int64"
      ]
     },
     "execution_count": 6,
     "metadata": {},
     "output_type": "execute_result"
    }
   ],
   "source": [
    "df.loc[df[\"treatment\"] == \"Buy One Get One\", \"treatment\"] = 1\n",
    "df.loc[df[\"treatment\"] == \"Discount\", \"treatment\"] = 1\n",
    "df.loc[df[\"treatment\"] == \"No Offer\", \"treatment\"] = 0\n",
    "df = df.astype({'treatment': np.int8})\n",
    "df['treatment'].value_counts()"
   ]
  },
  {
   "cell_type": "markdown",
   "id": "48e0cf4f",
   "metadata": {},
   "source": [
    "### Делаем dummies для zip_code и channel:"
   ]
  },
  {
   "cell_type": "code",
   "execution_count": 7,
   "id": "965dea36",
   "metadata": {},
   "outputs": [],
   "source": [
    "df = pd.get_dummies(df, columns = ['zip_code'])\n",
    "df = pd.get_dummies(df, columns = ['channel'])"
   ]
  },
  {
   "cell_type": "markdown",
   "id": "4fc7d9d0",
   "metadata": {},
   "source": [
    "### Делаем Бокс-Кокс для 'history':"
   ]
  },
  {
   "cell_type": "code",
   "execution_count": 8,
   "id": "beeced30",
   "metadata": {},
   "outputs": [
    {
     "data": {
      "image/png": "[encoded data removed]",
      "text/plain": [
       "<Figure size 432x288 with 2 Axes>"
      ]
     },
     "metadata": {
      "needs_background": "light"
     },
     "output_type": "display_data"
    }
   ],
   "source": [
    "plt.subplot(1,2,1)\n",
    "sns.kdeplot(np.log10(df['history'].values+1))\n",
    "plt.xlabel('log(x)')\n",
    "plt.subplot(1,2,2)\n",
    "sns.kdeplot((df['history'].values+1))\n",
    "plt.xlabel('x')\n",
    "plt.show()"
   ]
  },
  {
   "cell_type": "code",
   "execution_count": 9,
   "id": "855a6e2a",
   "metadata": {},
   "outputs": [
    {
     "name": "stdout",
     "output_type": "stream",
     "text": [
      "параметр для преобразования Бокса-Кокса:  -0.0005526707350174104\n"
     ]
    },
    {
     "data": {
      "image/png": "[encoded data removed]",
      "text/plain": [
       "<Figure size 432x288 with 2 Axes>"
      ]
     },
     "metadata": {
      "needs_background": "light"
     },
     "output_type": "display_data"
    }
   ],
   "source": [
    "x_log, lyamb = stats.boxcox(  df['history']+1)\n",
    "\n",
    "print('параметр для преобразования Бокса-Кокса: ',lyamb)\n",
    "plt.subplot(1,2,1)\n",
    "sns.kdeplot(x_log)\n",
    "plt.xlabel('log(x)')\n",
    "plt.subplot(1,2,2)\n",
    "sns.kdeplot((df['history'].values))\n",
    "plt.xlabel('x')\n",
    "plt.show()"
   ]
  },
  {
   "cell_type": "code",
   "execution_count": 10,
   "id": "be16c2ee",
   "metadata": {},
   "outputs": [
    {
     "data": {
      "text/plain": [
       "Text(0.5, 1.0, 'box_Cox')"
      ]
     },
     "execution_count": 10,
     "metadata": {},
     "output_type": "execute_result"
    },
    {
     "data": {
      "image/png": "[encoded data removed]",
      "text/plain": [
       "<Figure size 432x288 with 3 Axes>"
      ]
     },
     "metadata": {
      "needs_background": "light"
     },
     "output_type": "display_data"
    }
   ],
   "source": [
    "fig1, (ax1, ax2, ax3) = plt.subplots(1,3)\n",
    "\n",
    "p3 = stats.probplot(x_log, dist=stats.norm, plot=ax3)\n",
    "p1 = stats.probplot(df['history'], dist=stats.norm, plot=ax1)\n",
    "p2 = stats.probplot(np.log10(df['history']), dist=stats.norm, plot=ax2)\n",
    "ax1.set_title('X')\n",
    "ax2.set_title('log10')\n",
    "ax3.set_title('box_Cox')"
   ]
  },
  {
   "cell_type": "code",
   "execution_count": 11,
   "id": "511e58c0",
   "metadata": {},
   "outputs": [],
   "source": [
    "df['history'] = x_log"
   ]
  },
  {
   "cell_type": "markdown",
   "id": "af297bcc",
   "metadata": {},
   "source": [
    "### Финальный вид преобразованного датасета:"
   ]
  },
  {
   "cell_type": "code",
   "execution_count": 12,
   "id": "4126e37f",
   "metadata": {},
   "outputs": [
    {
     "data": {
      "text/html": [
       "<div>\n",
       "<style scoped>\n",
       "    .dataframe tbody tr th:only-of-type {\n",
       "        vertical-align: middle;\n",
       "    }\n",
       "\n",
       "    .dataframe tbody tr th {\n",
       "        vertical-align: top;\n",
       "    }\n",
       "\n",
       "    .dataframe thead th {\n",
       "        text-align: right;\n",
       "    }\n",
       "</style>\n",
       "<table border=\"1\" class=\"dataframe\">\n",
       "  <thead>\n",
       "    <tr style=\"text-align: right;\">\n",
       "      <th></th>\n",
       "      <th>recency</th>\n",
       "      <th>history</th>\n",
       "      <th>used_discount</th>\n",
       "      <th>used_bogo</th>\n",
       "      <th>is_referral</th>\n",
       "      <th>treatment</th>\n",
       "      <th>target</th>\n",
       "      <th>zip_code_Rural</th>\n",
       "      <th>zip_code_Surburban</th>\n",
       "      <th>zip_code_Urban</th>\n",
       "      <th>channel_Multichannel</th>\n",
       "      <th>channel_Phone</th>\n",
       "      <th>channel_Web</th>\n",
       "    </tr>\n",
       "  </thead>\n",
       "  <tbody>\n",
       "    <tr>\n",
       "      <th>35845</th>\n",
       "      <td>5</td>\n",
       "      <td>4.167271</td>\n",
       "      <td>1</td>\n",
       "      <td>0</td>\n",
       "      <td>0</td>\n",
       "      <td>0</td>\n",
       "      <td>1</td>\n",
       "      <td>0</td>\n",
       "      <td>1</td>\n",
       "      <td>0</td>\n",
       "      <td>0</td>\n",
       "      <td>1</td>\n",
       "      <td>0</td>\n",
       "    </tr>\n",
       "    <tr>\n",
       "      <th>27083</th>\n",
       "      <td>9</td>\n",
       "      <td>3.430409</td>\n",
       "      <td>1</td>\n",
       "      <td>0</td>\n",
       "      <td>0</td>\n",
       "      <td>1</td>\n",
       "      <td>1</td>\n",
       "      <td>0</td>\n",
       "      <td>0</td>\n",
       "      <td>1</td>\n",
       "      <td>0</td>\n",
       "      <td>1</td>\n",
       "      <td>0</td>\n",
       "    </tr>\n",
       "    <tr>\n",
       "      <th>20838</th>\n",
       "      <td>9</td>\n",
       "      <td>5.594595</td>\n",
       "      <td>1</td>\n",
       "      <td>0</td>\n",
       "      <td>1</td>\n",
       "      <td>1</td>\n",
       "      <td>0</td>\n",
       "      <td>1</td>\n",
       "      <td>0</td>\n",
       "      <td>0</td>\n",
       "      <td>1</td>\n",
       "      <td>0</td>\n",
       "      <td>0</td>\n",
       "    </tr>\n",
       "    <tr>\n",
       "      <th>51882</th>\n",
       "      <td>1</td>\n",
       "      <td>3.784761</td>\n",
       "      <td>0</td>\n",
       "      <td>1</td>\n",
       "      <td>1</td>\n",
       "      <td>1</td>\n",
       "      <td>0</td>\n",
       "      <td>0</td>\n",
       "      <td>0</td>\n",
       "      <td>1</td>\n",
       "      <td>0</td>\n",
       "      <td>0</td>\n",
       "      <td>1</td>\n",
       "    </tr>\n",
       "    <tr>\n",
       "      <th>38872</th>\n",
       "      <td>11</td>\n",
       "      <td>5.429785</td>\n",
       "      <td>0</td>\n",
       "      <td>1</td>\n",
       "      <td>0</td>\n",
       "      <td>1</td>\n",
       "      <td>0</td>\n",
       "      <td>0</td>\n",
       "      <td>0</td>\n",
       "      <td>1</td>\n",
       "      <td>0</td>\n",
       "      <td>0</td>\n",
       "      <td>1</td>\n",
       "    </tr>\n",
       "  </tbody>\n",
       "</table>\n",
       "</div>"
      ],
      "text/plain": [
       "       recency   history  used_discount  used_bogo  is_referral  treatment  \\\n",
       "35845        5  4.167271              1          0            0          0   \n",
       "27083        9  3.430409              1          0            0          1   \n",
       "20838        9  5.594595              1          0            1          1   \n",
       "51882        1  3.784761              0          1            1          1   \n",
       "38872       11  5.429785              0          1            0          1   \n",
       "\n",
       "       target  zip_code_Rural  zip_code_Surburban  zip_code_Urban  \\\n",
       "35845       1               0                   1               0   \n",
       "27083       1               0                   0               1   \n",
       "20838       0               1                   0               0   \n",
       "51882       0               0                   0               1   \n",
       "38872       0               0                   0               1   \n",
       "\n",
       "       channel_Multichannel  channel_Phone  channel_Web  \n",
       "35845                     0              1            0  \n",
       "27083                     0              1            0  \n",
       "20838                     1              0            0  \n",
       "51882                     0              0            1  \n",
       "38872                     0              0            1  "
      ]
     },
     "execution_count": 12,
     "metadata": {},
     "output_type": "execute_result"
    }
   ],
   "source": [
    "df.sample(5)"
   ]
  },
  {
   "cell_type": "markdown",
   "id": "d54d82bd",
   "metadata": {},
   "source": [
    "### Разделение датасета:"
   ]
  },
  {
   "cell_type": "code",
   "execution_count": 13,
   "id": "29d2f989",
   "metadata": {},
   "outputs": [],
   "source": [
    "features = ['recency', 'history', 'used_discount', 'used_bogo', 'is_referral', 'zip_code_Rural', 'zip_code_Surburban',\n",
    "                 'zip_code_Urban', 'channel_Multichannel', 'channel_Phone', 'channel_Web']\n",
    "\n",
    "treatment = ['treatment']\n",
    "\n",
    "target = ['target']"
   ]
  },
  {
   "cell_type": "code",
   "execution_count": 14,
   "id": "12e6a8b1",
   "metadata": {},
   "outputs": [],
   "source": [
    "df_features = df[features]\n",
    "df_train = df[treatment+target]\n",
    "df_test = df.drop(features+treatment+target, axis=1)\n",
    "\n",
    "indices_train = df_train.index\n",
    "indices_test = df_test.index\n",
    "indices_learn, indices_valid = train_test_split(df_train.index, test_size=0.3, random_state=123)"
   ]
  },
  {
   "cell_type": "code",
   "execution_count": 15,
   "id": "0406137b",
   "metadata": {},
   "outputs": [],
   "source": [
    "X_train = df_features.loc[indices_learn, :]\n",
    "y_train = df_train.loc[indices_learn, 'target']\n",
    "treat_train = df_train.loc[indices_learn, 'treatment']\n",
    "\n",
    "X_val = df_features.loc[indices_valid, :]\n",
    "y_val = df_train.loc[indices_valid, 'target']\n",
    "treat_val =  df_train.loc[indices_valid, 'treatment']\n",
    "\n",
    "X_train_full = df_features.loc[indices_train, :]\n",
    "y_train_full = df_train.loc[:, 'target']\n",
    "treat_train_full = df_train.loc[:, 'treatment']\n",
    "\n",
    "X_test = df_features.loc[indices_test, :]"
   ]
  },
  {
   "cell_type": "code",
   "execution_count": 16,
   "id": "5cb6295a",
   "metadata": {},
   "outputs": [],
   "source": [
    "dict_rez = {'Solo Model':[], 'ClassTransform Model':[], 'Two Model':[]}"
   ]
  },
  {
   "cell_type": "markdown",
   "id": "d6ebc643",
   "metadata": {},
   "source": [
    "### Одна модель с признаком коммуникации (S-learner):"
   ]
  },
  {
   "cell_type": "code",
   "execution_count": 17,
   "id": "1eae2816",
   "metadata": {},
   "outputs": [],
   "source": [
    "sm = SoloModel( CatBoostClassifier(iterations=20, thread_count=2, random_state=42, silent=True))\n",
    "sm = sm.fit( X_train, y_train, treat_train)\n",
    "\n",
    "uplift_sm = sm.predict(X_val)\n",
    "\n",
    "sm_score_20 = uplift_at_k( y_true=y_val, uplift=uplift_sm, treatment=treat_val, strategy='by_group', k=0.2)\n",
    "sm_score_10 = uplift_at_k( y_true=y_val, uplift=uplift_sm, treatment=treat_val, strategy='by_group', k=0.1)\n",
    "dict_rez['Solo Model'].append(sm_score_10)\n",
    "dict_rez['Solo Model'].append(sm_score_20)"
   ]
  },
  {
   "cell_type": "code",
   "execution_count": 18,
   "id": "7ba61f24",
   "metadata": {},
   "outputs": [
    {
     "data": {
      "text/plain": [
       "(0.08719104142243063, 0.09314527951524629)"
      ]
     },
     "execution_count": 18,
     "metadata": {},
     "output_type": "execute_result"
    }
   ],
   "source": [
    "sm_score_20, sm_score_10"
   ]
  },
  {
   "cell_type": "markdown",
   "id": "05054e8b",
   "metadata": {},
   "source": [
    "### Трансформация классов:"
   ]
  },
  {
   "cell_type": "code",
   "execution_count": 19,
   "id": "722220f5",
   "metadata": {},
   "outputs": [],
   "source": [
    "ct = ClassTransformation(CatBoostClassifier(iterations=20, thread_count=2, random_state=42, silent=True))\n",
    "ct = ct.fit(X_train, y_train, treat_train)\n",
    "\n",
    "uplift_ct = ct.predict(X_val)\n",
    "\n",
    "ct_score_20 = uplift_at_k(y_true=y_val, uplift=uplift_ct, treatment=treat_val, strategy='by_group', k=0.2)\n",
    "ct_score_10 = uplift_at_k(y_true=y_val, uplift=uplift_ct, treatment=treat_val, strategy='by_group', k=0.1)\n",
    "dict_rez['ClassTransform Model'].append(ct_score_10)\n",
    "dict_rez['ClassTransform Model'].append(ct_score_20)"
   ]
  },
  {
   "cell_type": "code",
   "execution_count": 20,
   "id": "f960ee90",
   "metadata": {},
   "outputs": [
    {
     "data": {
      "text/plain": [
       "(0.07157184202813599, 0.0728437744331509)"
      ]
     },
     "execution_count": 20,
     "metadata": {},
     "output_type": "execute_result"
    }
   ],
   "source": [
    "ct_score_20, ct_score_10, "
   ]
  },
  {
   "cell_type": "markdown",
   "id": "a8ac30f2",
   "metadata": {},
   "source": [
    "### Две независимые модели:"
   ]
  },
  {
   "cell_type": "code",
   "execution_count": 21,
   "id": "a462f707",
   "metadata": {},
   "outputs": [],
   "source": [
    "tm = TwoModels(    \n",
    "    estimator_trmnt=CatBoostClassifier(iterations=10, thread_count=2, random_state=42, silent=True), \n",
    "    estimator_ctrl=CatBoostClassifier(iterations=10, thread_count=2, random_state=42, silent=True), \n",
    "    method='vanilla'\n",
    ")   \n",
    "\n",
    "tm = tm.fit(\n",
    "    X_train, y_train, treat_train)\n",
    "\n",
    "uplift_tm = tm.predict(X_val)\n",
    "\n",
    "tm_score_20 = uplift_at_k(y_true=y_val, uplift=uplift_tm, treatment=treat_val, strategy='by_group', k=0.2)\n",
    "tm_score_10 = uplift_at_k(y_true=y_val, uplift=uplift_tm, treatment=treat_val, strategy='by_group', k=0.1)\n",
    "dict_rez['Two Model'].append(tm_score_10)\n",
    "dict_rez['Two Model'].append(tm_score_20)"
   ]
  },
  {
   "cell_type": "code",
   "execution_count": 22,
   "id": "b88b4962",
   "metadata": {},
   "outputs": [
    {
     "data": {
      "text/plain": [
       "(0.09149203790543181, 0.09238174354964818)"
      ]
     },
     "execution_count": 22,
     "metadata": {},
     "output_type": "execute_result"
    }
   ],
   "source": [
    "tm_score_20, tm_score_10"
   ]
  },
  {
   "cell_type": "code",
   "execution_count": 23,
   "id": "b2843fbd",
   "metadata": {},
   "outputs": [
    {
     "name": "stdout",
     "output_type": "stream",
     "text": [
      "Solo Model\n"
     ]
    },
    {
     "data": {
      "image/png": "[encoded data removed]",
      "text/plain": [
       "<Figure size 432x288 with 1 Axes>"
      ]
     },
     "metadata": {
      "needs_background": "light"
     },
     "output_type": "display_data"
    },
    {
     "name": "stdout",
     "output_type": "stream",
     "text": [
      "ClassTransform Model\n"
     ]
    },
    {
     "data": {
      "image/png": "[encoded data removed]",
      "text/plain": [
       "<Figure size 432x288 with 1 Axes>"
      ]
     },
     "metadata": {
      "needs_background": "light"
     },
     "output_type": "display_data"
    },
    {
     "name": "stdout",
     "output_type": "stream",
     "text": [
      "Two Model\n"
     ]
    },
    {
     "data": {
      "image/png": "[encoded data removed]",
      "text/plain": [
       "<Figure size 432x288 with 1 Axes>"
      ]
     },
     "metadata": {
      "needs_background": "light"
     },
     "output_type": "display_data"
    }
   ],
   "source": [
    "print('Solo Model')\n",
    "plot_uplift_curve(y_val, uplift_sm, treat_val, perfect=False)\n",
    "plt.show()\n",
    "print('ClassTransform Model')\n",
    "plot_uplift_curve(y_val, uplift_ct, treat_val, perfect=False)\n",
    "plt.show()\n",
    "print('Two Model')\n",
    "plot_uplift_curve(y_val, uplift_tm, treat_val, perfect=False)\n",
    "plt.show()"
   ]
  },
  {
   "cell_type": "markdown",
   "id": "1ce9b915",
   "metadata": {},
   "source": [
    "### Как видно по размерам площадей под кривыми, результат не очень хороший во всех случаях."
   ]
  },
  {
   "cell_type": "markdown",
   "id": "4aa68262",
   "metadata": {},
   "source": [
    "### Итоговая таблица:"
   ]
  },
  {
   "cell_type": "code",
   "execution_count": 24,
   "id": "fc4b9874",
   "metadata": {},
   "outputs": [
    {
     "data": {
      "text/html": [
       "<div>\n",
       "<style scoped>\n",
       "    .dataframe tbody tr th:only-of-type {\n",
       "        vertical-align: middle;\n",
       "    }\n",
       "\n",
       "    .dataframe tbody tr th {\n",
       "        vertical-align: top;\n",
       "    }\n",
       "\n",
       "    .dataframe thead th {\n",
       "        text-align: right;\n",
       "    }\n",
       "</style>\n",
       "<table border=\"1\" class=\"dataframe\">\n",
       "  <thead>\n",
       "    <tr style=\"text-align: right;\">\n",
       "      <th></th>\n",
       "      <th>Solo Model</th>\n",
       "      <th>ClassTransform Model</th>\n",
       "      <th>Two Model</th>\n",
       "    </tr>\n",
       "  </thead>\n",
       "  <tbody>\n",
       "    <tr>\n",
       "      <th>uplift@10%</th>\n",
       "      <td>0.093145</td>\n",
       "      <td>0.072844</td>\n",
       "      <td>0.092382</td>\n",
       "    </tr>\n",
       "    <tr>\n",
       "      <th>uplift@20%</th>\n",
       "      <td>0.087191</td>\n",
       "      <td>0.071572</td>\n",
       "      <td>0.091492</td>\n",
       "    </tr>\n",
       "  </tbody>\n",
       "</table>\n",
       "</div>"
      ],
      "text/plain": [
       "            Solo Model  ClassTransform Model  Two Model\n",
       "uplift@10%    0.093145              0.072844   0.092382\n",
       "uplift@20%    0.087191              0.071572   0.091492"
      ]
     },
     "execution_count": 24,
     "metadata": {},
     "output_type": "execute_result"
    }
   ],
   "source": [
    "df_rez = pd.DataFrame(dict_rez, index=['uplift@10%','uplift@20%'])\n",
    "df_rez"
   ]
  },
  {
   "cell_type": "markdown",
   "id": "62d8173d",
   "metadata": {},
   "source": [
    "### Несмотря на то, что в статьях утверждается, что подход с двумя моделями достаточно слабый, именно он показал наилучший результат. Также логично, что выборка с меньшим количеством данных (10%) показывает чуть лучший результат."
   ]
  },
  {
   "cell_type": "code",
   "execution_count": null,
   "id": "b7804932",
   "metadata": {},
   "outputs": [],
   "source": []
  }
 ],
 "metadata": {
  "kernelspec": {
   "display_name": "Python 3 (ipykernel)",
   "language": "python",
   "name": "python3"
  },
  "language_info": {
   "codemirror_mode": {
    "name": "ipython",
    "version": 3
   },
   "file_extension": ".py",
   "mimetype": "text/x-python",
   "name": "python",
   "nbconvert_exporter": "python",
   "pygments_lexer": "ipython3",
   "version": "3.10.4"
  }
 },
 "nbformat": 4,
 "nbformat_minor": 5
}
