{
 "cells": [
  {
   "cell_type": "code",
   "execution_count": 23,
   "id": "280e3524",
   "metadata": {},
   "outputs": [],
   "source": [
    "import pandas as pd\n",
    "import numpy as np\n",
    "from statsmodels.stats import proportion\n",
    "import matplotlib.pyplot as plt"
   ]
  },
  {
   "cell_type": "code",
   "execution_count": 2,
   "id": "bc25e92f",
   "metadata": {},
   "outputs": [
    {
     "data": {
      "text/html": [
       "<div>\n",
       "<style scoped>\n",
       "    .dataframe tbody tr th:only-of-type {\n",
       "        vertical-align: middle;\n",
       "    }\n",
       "\n",
       "    .dataframe tbody tr th {\n",
       "        vertical-align: top;\n",
       "    }\n",
       "\n",
       "    .dataframe thead th {\n",
       "        text-align: right;\n",
       "    }\n",
       "</style>\n",
       "<table border=\"1\" class=\"dataframe\">\n",
       "  <thead>\n",
       "    <tr style=\"text-align: right;\">\n",
       "      <th></th>\n",
       "      <th>user_id</th>\n",
       "      <th>date_served</th>\n",
       "      <th>marketing_channel</th>\n",
       "      <th>variant</th>\n",
       "      <th>language_displayed</th>\n",
       "      <th>converted</th>\n",
       "    </tr>\n",
       "  </thead>\n",
       "  <tbody>\n",
       "    <tr>\n",
       "      <th>0</th>\n",
       "      <td>a1000</td>\n",
       "      <td>1/1/18</td>\n",
       "      <td>House Ads</td>\n",
       "      <td>personalization</td>\n",
       "      <td>English</td>\n",
       "      <td>True</td>\n",
       "    </tr>\n",
       "    <tr>\n",
       "      <th>1</th>\n",
       "      <td>a1001</td>\n",
       "      <td>1/1/18</td>\n",
       "      <td>House Ads</td>\n",
       "      <td>personalization</td>\n",
       "      <td>English</td>\n",
       "      <td>True</td>\n",
       "    </tr>\n",
       "    <tr>\n",
       "      <th>2</th>\n",
       "      <td>a1002</td>\n",
       "      <td>1/1/18</td>\n",
       "      <td>House Ads</td>\n",
       "      <td>personalization</td>\n",
       "      <td>English</td>\n",
       "      <td>True</td>\n",
       "    </tr>\n",
       "  </tbody>\n",
       "</table>\n",
       "</div>"
      ],
      "text/plain": [
       "  user_id date_served marketing_channel          variant language_displayed  \\\n",
       "0   a1000      1/1/18         House Ads  personalization            English   \n",
       "1   a1001      1/1/18         House Ads  personalization            English   \n",
       "2   a1002      1/1/18         House Ads  personalization            English   \n",
       "\n",
       "  converted  \n",
       "0      True  \n",
       "1      True  \n",
       "2      True  "
      ]
     },
     "execution_count": 2,
     "metadata": {},
     "output_type": "execute_result"
    }
   ],
   "source": [
    "df = pd.read_csv(\"marketing_campaign.csv\")\n",
    "df.head(3)"
   ]
  },
  {
   "cell_type": "code",
   "execution_count": 3,
   "id": "e40c3447",
   "metadata": {},
   "outputs": [
    {
     "name": "stdout",
     "output_type": "stream",
     "text": [
      "<class 'pandas.core.frame.DataFrame'>\n",
      "RangeIndex: 10037 entries, 0 to 10036\n",
      "Data columns (total 6 columns):\n",
      " #   Column              Non-Null Count  Dtype \n",
      "---  ------              --------------  ----- \n",
      " 0   user_id             10037 non-null  object\n",
      " 1   date_served         10021 non-null  object\n",
      " 2   marketing_channel   10022 non-null  object\n",
      " 3   variant             10037 non-null  object\n",
      " 4   language_displayed  10037 non-null  object\n",
      " 5   converted           10022 non-null  object\n",
      "dtypes: object(6)\n",
      "memory usage: 470.6+ KB\n"
     ]
    }
   ],
   "source": [
    "df.info()"
   ]
  },
  {
   "cell_type": "markdown",
   "id": "9a8e0e4d",
   "metadata": {},
   "source": [
    "### Поиск отсутствующих значений:"
   ]
  },
  {
   "cell_type": "markdown",
   "id": "027e55c7",
   "metadata": {},
   "source": [
    "#### В силу немногочисленности отсутствующих значений, заменяем их самым популярным вариантом в признаке."
   ]
  },
  {
   "cell_type": "code",
   "execution_count": 4,
   "id": "252eb2fa",
   "metadata": {},
   "outputs": [
    {
     "data": {
      "text/plain": [
       "7038    NaN\n",
       "9944    NaN\n",
       "9945    NaN\n",
       "9946    NaN\n",
       "9947    NaN\n",
       "9948    NaN\n",
       "9949    NaN\n",
       "9950    NaN\n",
       "9951    NaN\n",
       "9952    NaN\n",
       "9953    NaN\n",
       "9954    NaN\n",
       "9955    NaN\n",
       "9956    NaN\n",
       "9957    NaN\n",
       "9958    NaN\n",
       "Name: date_served, dtype: object"
      ]
     },
     "execution_count": 4,
     "metadata": {},
     "output_type": "execute_result"
    }
   ],
   "source": [
    "df.loc[df[\"date_served\"].isnull(), \"date_served\"]"
   ]
  },
  {
   "cell_type": "code",
   "execution_count": 5,
   "id": "78e2fd8a",
   "metadata": {},
   "outputs": [
    {
     "data": {
      "text/plain": [
       "1/15/18    789\n",
       "1/2/18     417\n",
       "1/16/18    391\n",
       "1/3/18     388\n",
       "1/1/18     375\n",
       "1/17/18    374\n",
       "1/31/18    347\n",
       "1/10/18    342\n",
       "1/4/18     336\n",
       "1/27/18    331\n",
       "1/5/18     331\n",
       "1/30/18    330\n",
       "1/28/18    330\n",
       "1/29/18    328\n",
       "1/20/18    321\n",
       "1/18/18    320\n",
       "1/8/18     319\n",
       "1/6/18     315\n",
       "1/9/18     315\n",
       "1/11/18    314\n",
       "1/14/18    309\n",
       "1/13/18    308\n",
       "1/19/18    308\n",
       "1/12/18    306\n",
       "1/7/18     281\n",
       "1/21/18    234\n",
       "1/26/18    225\n",
       "1/24/18    193\n",
       "1/25/18    186\n",
       "1/22/18    182\n",
       "1/23/18    176\n",
       "Name: date_served, dtype: int64"
      ]
     },
     "execution_count": 5,
     "metadata": {},
     "output_type": "execute_result"
    }
   ],
   "source": [
    "df['date_served'].value_counts()"
   ]
  },
  {
   "cell_type": "code",
   "execution_count": 6,
   "id": "c52fee48",
   "metadata": {},
   "outputs": [],
   "source": [
    "df.loc[df[\"date_served\"].isnull(), \"date_served\"] = \"1/15/18\""
   ]
  },
  {
   "cell_type": "code",
   "execution_count": 8,
   "id": "6d6e4340",
   "metadata": {},
   "outputs": [
    {
     "data": {
      "text/plain": [
       "9944    NaN\n",
       "9945    NaN\n",
       "9946    NaN\n",
       "9947    NaN\n",
       "9948    NaN\n",
       "9949    NaN\n",
       "9950    NaN\n",
       "9951    NaN\n",
       "9952    NaN\n",
       "9953    NaN\n",
       "9954    NaN\n",
       "9955    NaN\n",
       "9956    NaN\n",
       "9957    NaN\n",
       "9958    NaN\n",
       "Name: marketing_channel, dtype: object"
      ]
     },
     "execution_count": 8,
     "metadata": {},
     "output_type": "execute_result"
    }
   ],
   "source": [
    "df.loc[df[\"marketing_channel\"].isnull(), \"marketing_channel\"]"
   ]
  },
  {
   "cell_type": "code",
   "execution_count": 9,
   "id": "d65ed8c7",
   "metadata": {},
   "outputs": [
    {
     "data": {
      "text/plain": [
       "House Ads    4733\n",
       "Instagram    1871\n",
       "Facebook     1860\n",
       "Push          993\n",
       "Email         565\n",
       "Name: marketing_channel, dtype: int64"
      ]
     },
     "execution_count": 9,
     "metadata": {},
     "output_type": "execute_result"
    }
   ],
   "source": [
    "df['marketing_channel'].value_counts()"
   ]
  },
  {
   "cell_type": "code",
   "execution_count": 10,
   "id": "4c45332f",
   "metadata": {},
   "outputs": [],
   "source": [
    "df.loc[df[\"marketing_channel\"].isnull(), \"marketing_channel\"] = \"House Ads\""
   ]
  },
  {
   "cell_type": "code",
   "execution_count": 11,
   "id": "7ecf67f0",
   "metadata": {},
   "outputs": [
    {
     "data": {
      "text/plain": [
       "9944    NaN\n",
       "9945    NaN\n",
       "9946    NaN\n",
       "9947    NaN\n",
       "9948    NaN\n",
       "9949    NaN\n",
       "9950    NaN\n",
       "9951    NaN\n",
       "9952    NaN\n",
       "9953    NaN\n",
       "9954    NaN\n",
       "9955    NaN\n",
       "9956    NaN\n",
       "9957    NaN\n",
       "9958    NaN\n",
       "Name: converted, dtype: object"
      ]
     },
     "execution_count": 11,
     "metadata": {},
     "output_type": "execute_result"
    }
   ],
   "source": [
    "df.loc[df[\"converted\"].isnull(), \"converted\"]"
   ]
  },
  {
   "cell_type": "code",
   "execution_count": 12,
   "id": "aba76f5b",
   "metadata": {},
   "outputs": [
    {
     "data": {
      "text/plain": [
       "False    8946\n",
       "True     1076\n",
       "Name: converted, dtype: int64"
      ]
     },
     "execution_count": 12,
     "metadata": {},
     "output_type": "execute_result"
    }
   ],
   "source": [
    "df['converted'].value_counts()"
   ]
  },
  {
   "cell_type": "code",
   "execution_count": 13,
   "id": "66be5919",
   "metadata": {},
   "outputs": [],
   "source": [
    "df.loc[df[\"converted\"].isnull(), \"converted\"] = False"
   ]
  },
  {
   "cell_type": "code",
   "execution_count": 14,
   "id": "0ca311fe",
   "metadata": {},
   "outputs": [
    {
     "name": "stdout",
     "output_type": "stream",
     "text": [
      "<class 'pandas.core.frame.DataFrame'>\n",
      "RangeIndex: 10037 entries, 0 to 10036\n",
      "Data columns (total 6 columns):\n",
      " #   Column              Non-Null Count  Dtype \n",
      "---  ------              --------------  ----- \n",
      " 0   user_id             10037 non-null  object\n",
      " 1   date_served         10037 non-null  object\n",
      " 2   marketing_channel   10037 non-null  object\n",
      " 3   variant             10037 non-null  object\n",
      " 4   language_displayed  10037 non-null  object\n",
      " 5   converted           10037 non-null  object\n",
      "dtypes: object(6)\n",
      "memory usage: 470.6+ KB\n"
     ]
    }
   ],
   "source": [
    "df.info()"
   ]
  },
  {
   "cell_type": "markdown",
   "id": "6a22ef1e",
   "metadata": {},
   "source": [
    "### Гипотезы:"
   ]
  },
  {
   "cell_type": "markdown",
   "id": "83f31ffa",
   "metadata": {},
   "source": [
    "нулевая гипотеза: $H_0 : p_1 = p_2$<br>\n",
    "альтернативная гипотеза: $H_1 : p_1 \\neq p_2$"
   ]
  },
  {
   "cell_type": "code",
   "execution_count": 15,
   "id": "81b018fa",
   "metadata": {},
   "outputs": [
    {
     "data": {
      "text/plain": [
       "([False, True], [8961, 1076])"
      ]
     },
     "execution_count": 15,
     "metadata": {},
     "output_type": "execute_result"
    }
   ],
   "source": [
    "counts = df['converted'].value_counts().tolist()\n",
    "values = df['converted'].value_counts().keys().tolist()\n",
    "values, counts"
   ]
  },
  {
   "cell_type": "code",
   "execution_count": 16,
   "id": "5ae9ea4b",
   "metadata": {},
   "outputs": [
    {
     "data": {
      "text/plain": [
       "(371, 5091, 705, 4946)"
      ]
     },
     "execution_count": 16,
     "metadata": {},
     "output_type": "execute_result"
    }
   ],
   "source": [
    "z_crit_value = 1.96 # соответствует доверительному интервалу в 95%\n",
    "k1 = (df[df['converted']==True]['variant'] == 'control').sum()\n",
    "n1 = df[df['variant'] == 'control'].shape[0]\n",
    "k2 = (df[df['converted']==True]['variant'] == 'personalization').sum()\n",
    "n2 = df[df['variant'] == 'personalization'].shape[0]\n",
    "\n",
    "k1, n1, k2, n2"
   ]
  },
  {
   "cell_type": "code",
   "execution_count": 17,
   "id": "3192b391",
   "metadata": {},
   "outputs": [
    {
     "data": {
      "text/html": [
       "<div>\n",
       "<style scoped>\n",
       "    .dataframe tbody tr th:only-of-type {\n",
       "        vertical-align: middle;\n",
       "    }\n",
       "\n",
       "    .dataframe tbody tr th {\n",
       "        vertical-align: top;\n",
       "    }\n",
       "\n",
       "    .dataframe thead tr th {\n",
       "        text-align: left;\n",
       "    }\n",
       "\n",
       "    .dataframe thead tr:last-of-type th {\n",
       "        text-align: right;\n",
       "    }\n",
       "</style>\n",
       "<table border=\"1\" class=\"dataframe\">\n",
       "  <thead>\n",
       "    <tr>\n",
       "      <th></th>\n",
       "      <th>sum</th>\n",
       "      <th>count</th>\n",
       "    </tr>\n",
       "    <tr>\n",
       "      <th></th>\n",
       "      <th>converted</th>\n",
       "      <th>converted</th>\n",
       "    </tr>\n",
       "    <tr>\n",
       "      <th>variant</th>\n",
       "      <th></th>\n",
       "      <th></th>\n",
       "    </tr>\n",
       "  </thead>\n",
       "  <tbody>\n",
       "    <tr>\n",
       "      <th>control</th>\n",
       "      <td>371</td>\n",
       "      <td>5091</td>\n",
       "    </tr>\n",
       "    <tr>\n",
       "      <th>personalization</th>\n",
       "      <td>705</td>\n",
       "      <td>4946</td>\n",
       "    </tr>\n",
       "  </tbody>\n",
       "</table>\n",
       "</div>"
      ],
      "text/plain": [
       "                      sum     count\n",
       "                converted converted\n",
       "variant                            \n",
       "control               371      5091\n",
       "personalization       705      4946"
      ]
     },
     "execution_count": 17,
     "metadata": {},
     "output_type": "execute_result"
    }
   ],
   "source": [
    "grouped = df.pivot_table(values='converted', index='variant', aggfunc=['sum', 'count'])\n",
    "grouped"
   ]
  },
  {
   "cell_type": "code",
   "execution_count": 18,
   "id": "13494611",
   "metadata": {},
   "outputs": [
    {
     "data": {
      "text/plain": [
       "(0.07287369868395208, 0.14253942579862516)"
      ]
     },
     "execution_count": 18,
     "metadata": {},
     "output_type": "execute_result"
    }
   ],
   "source": [
    "p1, p2 = k1/n1, k2/n2\n",
    "p1, p2"
   ]
  },
  {
   "cell_type": "code",
   "execution_count": 19,
   "id": "dfda06f9",
   "metadata": {},
   "outputs": [
    {
     "data": {
      "text/plain": [
       "-11.278864170859038"
      ]
     },
     "execution_count": 19,
     "metadata": {},
     "output_type": "execute_result"
    }
   ],
   "source": [
    "P = (p1*n1 + p2*n2) / (n1 + n2)\n",
    "z = (p1 - p2) / (P * (1 - P) * (1/n1 + 1/n2))**(1/2)\n",
    "z"
   ]
  },
  {
   "cell_type": "code",
   "execution_count": 34,
   "id": "af5e9b7d",
   "metadata": {},
   "outputs": [
    {
     "name": "stdout",
     "output_type": "stream",
     "text": [
      "Results are z_score=-11.279 pvalue=0.000\n"
     ]
    }
   ],
   "source": [
    "z_score, z_pvalue = proportion.proportions_ztest(np.array([k1, k2]), np.array([n1, n2]))\n",
    "print(f'Results are z_score={z_score:.3f} pvalue={z_pvalue:.3f}')"
   ]
  },
  {
   "cell_type": "code",
   "execution_count": 20,
   "id": "3ec6538a",
   "metadata": {},
   "outputs": [
    {
     "name": "stdout",
     "output_type": "stream",
     "text": [
      "Мы можем отвергнуть нулевую гипотезу!\n"
     ]
    }
   ],
   "source": [
    "if abs(z) > z_crit_value:\n",
    "    print(\"Мы можем отвергнуть нулевую гипотезу!\")\n",
    "else:\n",
    "    print(\"Мы не можем отвергнуть нулевую гипотезу\")"
   ]
  },
  {
   "cell_type": "markdown",
   "id": "e678987f",
   "metadata": {},
   "source": [
    "### Хи-квадрат тест:"
   ]
  },
  {
   "cell_type": "code",
   "execution_count": 35,
   "id": "ef1489f7",
   "metadata": {},
   "outputs": [
    {
     "name": "stdout",
     "output_type": "stream",
     "text": [
      "Results are chisq=127.213 pvalue=0.000\n"
     ]
    }
   ],
   "source": [
    "chisq, pvalue, table = proportion.proportions_chisquare(np.array([k1, k2]), np.array([n1, n2]))\n",
    "print(f'Results are chisq={chisq:.3f} pvalue={pvalue:.3f}')"
   ]
  },
  {
   "cell_type": "markdown",
   "id": "58afa2ad",
   "metadata": {},
   "source": [
    "### Т.к. нулевая гипотеза отвергнута, мы можем говорить, что различие имеет статистическую значимость."
   ]
  },
  {
   "cell_type": "markdown",
   "id": "6456dcd6",
   "metadata": {},
   "source": [
    "### Визуальный анализ:"
   ]
  },
  {
   "cell_type": "code",
   "execution_count": 33,
   "id": "179dffe9",
   "metadata": {},
   "outputs": [
    {
     "data": {
      "image/png": "[encoded data removed]",
      "text/plain": [
       "<Figure size 1080x216 with 1 Axes>"
      ]
     },
     "metadata": {
      "needs_background": "light"
     },
     "output_type": "display_data"
    }
   ],
   "source": [
    "plt.figure(figsize=(15, 3))\n",
    "plt.bar([1, 2], grouped['count']['converted'], label='Всего клиентов')\n",
    "plt.bar([1, 2], grouped['sum']['converted'], bottom=grouped['count']['converted'], label='Конверция')\n",
    "plt.xticks([1, 2], ['control', 'personalization'])\n",
    "plt.legend();"
   ]
  },
  {
   "cell_type": "markdown",
   "id": "85121d2a",
   "metadata": {},
   "source": [
    "### При визуальном анализе различия видны невооруженным глазом."
   ]
  }
 ],
 "metadata": {
  "kernelspec": {
   "display_name": "Python 3 (ipykernel)",
   "language": "python",
   "name": "python3"
  },
  "language_info": {
   "codemirror_mode": {
    "name": "ipython",
    "version": 3
   },
   "file_extension": ".py",
   "mimetype": "text/x-python",
   "name": "python",
   "nbconvert_exporter": "python",
   "pygments_lexer": "ipython3",
   "version": "3.10.4"
  }
 },
 "nbformat": 4,
 "nbformat_minor": 5
}
