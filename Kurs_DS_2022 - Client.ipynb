{
 "cells": [
  {
   "cell_type": "code",
   "execution_count": 1,
   "id": "496ebd1d",
   "metadata": {},
   "outputs": [],
   "source": [
    "import requests\n",
    "import urllib.request\n",
    "import json  "
   ]
  },
  {
   "cell_type": "code",
   "execution_count": 2,
   "id": "823af36c",
   "metadata": {},
   "outputs": [],
   "source": [
    "data = (1.3,200000,4,2006,4.0,2,'Hatchback','No','Petrol','Variator','Front','Right-hand drive','Black')"
   ]
  },
  {
   "cell_type": "code",
   "execution_count": 3,
   "id": "dd39e23a",
   "metadata": {},
   "outputs": [],
   "source": [
    "def get_prediction(x):\n",
    "    \n",
    "    Engine_volume, Mileage, Doors, Prod_year, Cylinders, Airbags, Category, Leather_interior, Fuel_type, Gear_box_type, Drive_wheels, Wheel, Color = x\n",
    "    \n",
    "    body = {'Engine_volume': Engine_volume,\n",
    "            'Mileage': Mileage,\n",
    "            'Doors': Doors,\n",
    "            'Prod_year': Prod_year,\n",
    "            'Cylinders': Cylinders,\n",
    "            'Airbags': Airbags,\n",
    "            'Category': Category,\n",
    "            'Leather_interior': Leather_interior,\n",
    "            'Fuel_type': Fuel_type,\n",
    "            'Gear_box_type': Gear_box_type,\n",
    "            'Drive_wheels': Drive_wheels,\n",
    "            'Wheel': Wheel,\n",
    "            'Color': Color\n",
    "            } \n",
    "\n",
    "    myurl = \"http://127.0.0.1:5000\" + \"/predict\"\n",
    "    headers = {'content-type': 'application/json; charset=utf-8'}\n",
    "    response = requests.post(myurl, json=body, headers = headers)\n",
    "    return response.json()['predictions']\n",
    "    #return response.data\n",
    "    "
   ]
  },
  {
   "cell_type": "code",
   "execution_count": 4,
   "id": "5964e3e8",
   "metadata": {},
   "outputs": [
    {
     "name": "stdout",
     "output_type": "stream",
     "text": [
      "Предсказание [7309.191554646405]\n"
     ]
    }
   ],
   "source": [
    "response = get_prediction(data)\n",
    "print('Предсказание', response)"
   ]
  }
 ],
 "metadata": {
  "kernelspec": {
   "display_name": "Python 3 (ipykernel)",
   "language": "python",
   "name": "python3"
  },
  "language_info": {
   "codemirror_mode": {
    "name": "ipython",
    "version": 3
   },
   "file_extension": ".py",
   "mimetype": "text/x-python",
   "name": "python",
   "nbconvert_exporter": "python",
   "pygments_lexer": "ipython3",
   "version": "3.10.4"
  }
 },
 "nbformat": 4,
 "nbformat_minor": 5
}
