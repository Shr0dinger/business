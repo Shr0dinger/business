{
 "cells": [
  {
   "cell_type": "code",
   "execution_count": 1,
   "id": "9be20632",
   "metadata": {},
   "outputs": [],
   "source": [
    "import numpy as np\n",
    "import pandas as pd\n",
    "import seaborn as sns\n",
    "import matplotlib.pyplot as plt\n",
    "from sklearn.feature_extraction.text import TfidfVectorizer\n",
    "from sklearn.linear_model import LogisticRegression\n",
    "import xgboost\n",
    "from sklearn.neighbors import KNeighborsClassifier\n",
    "from sklearn.model_selection import cross_val_score, train_test_split\n",
    "from sklearn.pipeline import Pipeline, make_pipeline\n",
    "from sklearn.base import BaseEstimator, TransformerMixin\n",
    "from sklearn.preprocessing import StandardScaler\n",
    "from sklearn.pipeline import FeatureUnion\n",
    "from sklearn.metrics import log_loss, f1_score, roc_auc_score, precision_score, classification_report \n",
    "from sklearn.metrics import precision_recall_curve, confusion_matrix, roc_curve\n",
    "from scipy.sparse import hstack\n",
    "import itertools\n",
    "import warnings\n",
    "warnings.filterwarnings('ignore')\n",
    "\n",
    "%matplotlib inline"
   ]
  },
  {
   "cell_type": "code",
   "execution_count": 2,
   "id": "37ddf359",
   "metadata": {},
   "outputs": [
    {
     "data": {
      "text/html": [
       "<div>\n",
       "<style scoped>\n",
       "    .dataframe tbody tr th:only-of-type {\n",
       "        vertical-align: middle;\n",
       "    }\n",
       "\n",
       "    .dataframe tbody tr th {\n",
       "        vertical-align: top;\n",
       "    }\n",
       "\n",
       "    .dataframe thead th {\n",
       "        text-align: right;\n",
       "    }\n",
       "</style>\n",
       "<table border=\"1\" class=\"dataframe\">\n",
       "  <thead>\n",
       "    <tr style=\"text-align: right;\">\n",
       "      <th></th>\n",
       "      <th>id</th>\n",
       "      <th>age</th>\n",
       "      <th>gender</th>\n",
       "      <th>height</th>\n",
       "      <th>weight</th>\n",
       "      <th>ap_hi</th>\n",
       "      <th>ap_lo</th>\n",
       "      <th>cholesterol</th>\n",
       "      <th>gluc</th>\n",
       "      <th>smoke</th>\n",
       "      <th>alco</th>\n",
       "      <th>active</th>\n",
       "      <th>cardio</th>\n",
       "    </tr>\n",
       "  </thead>\n",
       "  <tbody>\n",
       "    <tr>\n",
       "      <th>26505</th>\n",
       "      <td>37865</td>\n",
       "      <td>16564</td>\n",
       "      <td>1</td>\n",
       "      <td>157</td>\n",
       "      <td>54.0</td>\n",
       "      <td>90</td>\n",
       "      <td>60</td>\n",
       "      <td>1</td>\n",
       "      <td>1</td>\n",
       "      <td>0</td>\n",
       "      <td>0</td>\n",
       "      <td>1</td>\n",
       "      <td>0</td>\n",
       "    </tr>\n",
       "    <tr>\n",
       "      <th>16099</th>\n",
       "      <td>22984</td>\n",
       "      <td>20310</td>\n",
       "      <td>1</td>\n",
       "      <td>158</td>\n",
       "      <td>70.0</td>\n",
       "      <td>120</td>\n",
       "      <td>80</td>\n",
       "      <td>3</td>\n",
       "      <td>3</td>\n",
       "      <td>0</td>\n",
       "      <td>0</td>\n",
       "      <td>1</td>\n",
       "      <td>0</td>\n",
       "    </tr>\n",
       "    <tr>\n",
       "      <th>35596</th>\n",
       "      <td>50835</td>\n",
       "      <td>21738</td>\n",
       "      <td>1</td>\n",
       "      <td>169</td>\n",
       "      <td>82.0</td>\n",
       "      <td>140</td>\n",
       "      <td>90</td>\n",
       "      <td>1</td>\n",
       "      <td>1</td>\n",
       "      <td>1</td>\n",
       "      <td>0</td>\n",
       "      <td>1</td>\n",
       "      <td>1</td>\n",
       "    </tr>\n",
       "    <tr>\n",
       "      <th>62735</th>\n",
       "      <td>89583</td>\n",
       "      <td>22808</td>\n",
       "      <td>2</td>\n",
       "      <td>170</td>\n",
       "      <td>78.0</td>\n",
       "      <td>140</td>\n",
       "      <td>80</td>\n",
       "      <td>1</td>\n",
       "      <td>1</td>\n",
       "      <td>1</td>\n",
       "      <td>0</td>\n",
       "      <td>0</td>\n",
       "      <td>1</td>\n",
       "    </tr>\n",
       "    <tr>\n",
       "      <th>67323</th>\n",
       "      <td>96126</td>\n",
       "      <td>19057</td>\n",
       "      <td>1</td>\n",
       "      <td>155</td>\n",
       "      <td>100.0</td>\n",
       "      <td>150</td>\n",
       "      <td>90</td>\n",
       "      <td>3</td>\n",
       "      <td>1</td>\n",
       "      <td>0</td>\n",
       "      <td>0</td>\n",
       "      <td>0</td>\n",
       "      <td>1</td>\n",
       "    </tr>\n",
       "    <tr>\n",
       "      <th>69982</th>\n",
       "      <td>99973</td>\n",
       "      <td>18941</td>\n",
       "      <td>1</td>\n",
       "      <td>153</td>\n",
       "      <td>86.0</td>\n",
       "      <td>130</td>\n",
       "      <td>90</td>\n",
       "      <td>1</td>\n",
       "      <td>2</td>\n",
       "      <td>0</td>\n",
       "      <td>0</td>\n",
       "      <td>1</td>\n",
       "      <td>1</td>\n",
       "    </tr>\n",
       "    <tr>\n",
       "      <th>49905</th>\n",
       "      <td>71239</td>\n",
       "      <td>19159</td>\n",
       "      <td>1</td>\n",
       "      <td>165</td>\n",
       "      <td>62.0</td>\n",
       "      <td>120</td>\n",
       "      <td>70</td>\n",
       "      <td>1</td>\n",
       "      <td>1</td>\n",
       "      <td>0</td>\n",
       "      <td>0</td>\n",
       "      <td>0</td>\n",
       "      <td>0</td>\n",
       "    </tr>\n",
       "    <tr>\n",
       "      <th>12076</th>\n",
       "      <td>17249</td>\n",
       "      <td>16837</td>\n",
       "      <td>1</td>\n",
       "      <td>155</td>\n",
       "      <td>73.0</td>\n",
       "      <td>120</td>\n",
       "      <td>80</td>\n",
       "      <td>1</td>\n",
       "      <td>2</td>\n",
       "      <td>0</td>\n",
       "      <td>0</td>\n",
       "      <td>1</td>\n",
       "      <td>0</td>\n",
       "    </tr>\n",
       "    <tr>\n",
       "      <th>59726</th>\n",
       "      <td>85267</td>\n",
       "      <td>17214</td>\n",
       "      <td>2</td>\n",
       "      <td>165</td>\n",
       "      <td>54.0</td>\n",
       "      <td>140</td>\n",
       "      <td>90</td>\n",
       "      <td>1</td>\n",
       "      <td>1</td>\n",
       "      <td>0</td>\n",
       "      <td>0</td>\n",
       "      <td>1</td>\n",
       "      <td>1</td>\n",
       "    </tr>\n",
       "    <tr>\n",
       "      <th>10726</th>\n",
       "      <td>15335</td>\n",
       "      <td>23435</td>\n",
       "      <td>1</td>\n",
       "      <td>162</td>\n",
       "      <td>82.0</td>\n",
       "      <td>140</td>\n",
       "      <td>90</td>\n",
       "      <td>1</td>\n",
       "      <td>1</td>\n",
       "      <td>0</td>\n",
       "      <td>0</td>\n",
       "      <td>1</td>\n",
       "      <td>0</td>\n",
       "    </tr>\n",
       "  </tbody>\n",
       "</table>\n",
       "</div>"
      ],
      "text/plain": [
       "          id    age  gender  height  weight  ap_hi  ap_lo  cholesterol  gluc  \\\n",
       "26505  37865  16564       1     157    54.0     90     60            1     1   \n",
       "16099  22984  20310       1     158    70.0    120     80            3     3   \n",
       "35596  50835  21738       1     169    82.0    140     90            1     1   \n",
       "62735  89583  22808       2     170    78.0    140     80            1     1   \n",
       "67323  96126  19057       1     155   100.0    150     90            3     1   \n",
       "69982  99973  18941       1     153    86.0    130     90            1     2   \n",
       "49905  71239  19159       1     165    62.0    120     70            1     1   \n",
       "12076  17249  16837       1     155    73.0    120     80            1     2   \n",
       "59726  85267  17214       2     165    54.0    140     90            1     1   \n",
       "10726  15335  23435       1     162    82.0    140     90            1     1   \n",
       "\n",
       "       smoke  alco  active  cardio  \n",
       "26505      0     0       1       0  \n",
       "16099      0     0       1       0  \n",
       "35596      1     0       1       1  \n",
       "62735      1     0       0       1  \n",
       "67323      0     0       0       1  \n",
       "69982      0     0       1       1  \n",
       "49905      0     0       0       0  \n",
       "12076      0     0       1       0  \n",
       "59726      0     0       1       1  \n",
       "10726      0     0       1       0  "
      ]
     },
     "execution_count": 2,
     "metadata": {},
     "output_type": "execute_result"
    }
   ],
   "source": [
    "df = pd.read_csv('train_case2.csv', ';')\n",
    "df.sample(10, random_state=12)"
   ]
  },
  {
   "cell_type": "code",
   "execution_count": 3,
   "id": "657a31cc",
   "metadata": {},
   "outputs": [],
   "source": [
    "X_train, X_test, y_train, y_test = train_test_split(df.drop('cardio', 1), df['cardio'], random_state=0)"
   ]
  },
  {
   "cell_type": "code",
   "execution_count": 4,
   "id": "a568eb2c",
   "metadata": {},
   "outputs": [],
   "source": [
    "class ColumnSelector(BaseEstimator, TransformerMixin):\n",
    "    \n",
    "    def __init__(self, key):\n",
    "        self.key = key\n",
    "\n",
    "    def fit(self, X, y=None):\n",
    "        return self\n",
    "\n",
    "    def transform(self, X):\n",
    "        return X[self.key]\n",
    "    \n",
    "class NumberSelector(BaseEstimator, TransformerMixin):\n",
    "    \n",
    "    def __init__(self, key):\n",
    "        self.key = key\n",
    "\n",
    "    def fit(self, X, y=None):\n",
    "        return self\n",
    "\n",
    "    def transform(self, X):\n",
    "        return X[[self.key]]\n",
    "    \n",
    "class OHEEncoder(BaseEstimator, TransformerMixin):\n",
    "    def __init__(self, key):\n",
    "        self.key = key\n",
    "        self.columns = []\n",
    "\n",
    "    def fit(self, X, y=None):\n",
    "        self.columns = [col for col in pd.get_dummies(X, prefix=self.key).columns]\n",
    "        return self\n",
    "\n",
    "    def transform(self, X):\n",
    "        X = pd.get_dummies(X, prefix=self.key)\n",
    "        test_columns = [col for col in X.columns]\n",
    "        for col_ in test_columns:\n",
    "            if col_ not in self.columns:\n",
    "                X[col_] = 0\n",
    "        return X[self.columns]\n",
    "\n",
    "continuos_cols = ['age', 'height', 'weight', 'ap_hi', 'ap_lo']\n",
    "cat_cols = ['gender', 'cholesterol']\n",
    "base_cols = ['gluc', 'smoke', 'alco', 'active']\n",
    "\n",
    "continuos_transformers = []\n",
    "cat_transformers = []\n",
    "base_transformers = []\n",
    "\n",
    "for cont_col in continuos_cols:\n",
    "    transfomer =  Pipeline([\n",
    "                ('selector', NumberSelector(key=cont_col)),\n",
    "                ('standard', StandardScaler())\n",
    "            ])\n",
    "    continuos_transformers.append((cont_col, transfomer))\n",
    "    \n",
    "for cat_col in cat_cols:\n",
    "    cat_transformer = Pipeline([\n",
    "                ('selector', ColumnSelector(key=cat_col)),\n",
    "                ('ohe', OHEEncoder(key=cat_col))\n",
    "            ])\n",
    "    cat_transformers.append((cat_col, cat_transformer))\n",
    "    \n",
    "for base_col in base_cols:\n",
    "    base_transformer = Pipeline([\n",
    "                ('selector', NumberSelector(key=base_col))\n",
    "            ])\n",
    "    base_transformers.append((base_col, base_transformer))"
   ]
  },
  {
   "cell_type": "code",
   "execution_count": 5,
   "id": "a9e0515d",
   "metadata": {},
   "outputs": [
    {
     "data": {
      "text/plain": [
       "array([[-1.73391771,  0.6873301 ,  0.74843904, ...,  1.        ,\n",
       "         0.        ,  1.        ],\n",
       "       [-1.67343538,  0.07758923, -0.29640123, ...,  0.        ,\n",
       "         0.        ,  1.        ],\n",
       "       [ 0.13738132,  1.17512278, -0.15708919, ...,  0.        ,\n",
       "         0.        ,  0.        ],\n",
       "       ...,\n",
       "       [ 1.17775864,  1.17512278, -0.15708919, ...,  0.        ,\n",
       "         0.        ,  1.        ],\n",
       "       [-0.47190715, -1.38578883,  0.74843904, ...,  0.        ,\n",
       "         0.        ,  1.        ],\n",
       "       [ 0.38174619,  0.56538192, -0.08743318, ...,  0.        ,\n",
       "         0.        ,  1.        ]])"
      ]
     },
     "execution_count": 5,
     "metadata": {},
     "output_type": "execute_result"
    }
   ],
   "source": [
    "feats = FeatureUnion(continuos_transformers+cat_transformers+base_transformers)\n",
    "feature_processing = Pipeline([('feats', feats)])\n",
    "feature_processing.fit_transform(X_train)"
   ]
  },
  {
   "cell_type": "markdown",
   "id": "92ccbc97",
   "metadata": {},
   "source": [
    "### Создаем словарь результатов:"
   ]
  },
  {
   "cell_type": "code",
   "execution_count": 6,
   "id": "d7677d9b",
   "metadata": {},
   "outputs": [],
   "source": [
    "dict_rez = {'LogReg':[], 'XGBClass':[], 'KNN':[]}"
   ]
  },
  {
   "cell_type": "markdown",
   "id": "4d2e8782",
   "metadata": {},
   "source": [
    "### №1 Логистическая регрессия:"
   ]
  },
  {
   "cell_type": "code",
   "execution_count": 7,
   "id": "fd3e3bd3",
   "metadata": {},
   "outputs": [
    {
     "name": "stdout",
     "output_type": "stream",
     "text": [
      "CPU times: total: 922 ms\n",
      "Wall time: 706 ms\n"
     ]
    }
   ],
   "source": [
    "classifier = Pipeline([\n",
    "    ('features',feats),\n",
    "    ('classifier', LogisticRegression(random_state = 42)),\n",
    "])\n",
    "\n",
    "cv_scores = cross_val_score(classifier, X_train, y_train, cv=5, scoring='roc_auc')\n",
    "cv_score = np.mean(cv_scores)\n",
    "cv_score_std = np.std(cv_scores)\n",
    "#print('CV score is {}+-{}'.format(cv_score, cv_score_std))"
   ]
  },
  {
   "cell_type": "code",
   "execution_count": 8,
   "id": "04d0699f",
   "metadata": {},
   "outputs": [
    {
     "name": "stdout",
     "output_type": "stream",
     "text": [
      "CPU times: total: 266 ms\n",
      "Wall time: 154 ms\n"
     ]
    }
   ],
   "source": [
    "classifier.fit(X_train, y_train)\n",
    "y_score = classifier.predict_proba(X_test)[:, 1]"
   ]
  },
  {
   "cell_type": "code",
   "execution_count": 9,
   "id": "e9ef572c",
   "metadata": {},
   "outputs": [
    {
     "name": "stdout",
     "output_type": "stream",
     "text": [
      "CPU times: total: 15.6 ms\n",
      "Wall time: 6.97 ms\n"
     ]
    }
   ],
   "source": [
    "b=1\n",
    "precision, recall, thresholds = precision_recall_curve(y_test.values, y_score)\n",
    "fscore = (1+b**2)*(precision * recall) / (b**2*precision + recall)\n",
    "\n",
    "ix = np.argmax(fscore)\n",
    "#print('F-Score=%.3f, Precision=%.3f, Recall=%.3f' % (fscore[ix],\n",
    "#                                                     precision[ix],\n",
    "#                                                     recall[ix]))\n",
    "\n",
    "RAS = roc_auc_score(y_test, y_score)\n",
    "\n",
    "#print(\"roc auc score: {}\".format(roc_auc_score(y_test, y_score)))\n",
    "#print(\"log loss score: {}\".format(log_loss(y_true=y_test, y_pred=pipeline.predict_proba(X_test)[:,1])))\n",
    "\n",
    "dict_rez['LogReg'].append(fscore[ix])\n",
    "dict_rez['LogReg'].append(precision[ix])\n",
    "dict_rez['LogReg'].append(recall[ix])\n",
    "dict_rez['LogReg'].append(RAS)"
   ]
  },
  {
   "cell_type": "markdown",
   "id": "9c94bb80",
   "metadata": {},
   "source": [
    "### №2 Градиентный бустинг:"
   ]
  },
  {
   "cell_type": "code",
   "execution_count": 10,
   "id": "dde8ca6e",
   "metadata": {},
   "outputs": [
    {
     "name": "stdout",
     "output_type": "stream",
     "text": [
      "CPU times: total: 52.9 s\n",
      "Wall time: 7.22 s\n"
     ]
    }
   ],
   "source": [
    "classifier = Pipeline([\n",
    "    ('features',feats),\n",
    "    ('classifier', xgboost.XGBClassifier(n_estimators=100, random_state=0)),\n",
    "])\n",
    "\n",
    "\n",
    "cv_scores = cross_val_score(classifier, X_train, y_train, cv=5, scoring='roc_auc')\n",
    "cv_score = np.mean(cv_scores)\n",
    "cv_score_std = np.std(cv_scores)\n",
    "#print('CV score is {}+-{}'.format(cv_score, cv_score_std))"
   ]
  },
  {
   "cell_type": "code",
   "execution_count": 11,
   "id": "58482708",
   "metadata": {},
   "outputs": [
    {
     "name": "stdout",
     "output_type": "stream",
     "text": [
      "CPU times: total: 12 s\n",
      "Wall time: 1.56 s\n"
     ]
    }
   ],
   "source": [
    "classifier.fit(X_train, y_train)\n",
    "y_score = classifier.predict_proba(X_test)[:, 1]"
   ]
  },
  {
   "cell_type": "code",
   "execution_count": 12,
   "id": "5c75c43a",
   "metadata": {},
   "outputs": [
    {
     "name": "stdout",
     "output_type": "stream",
     "text": [
      "CPU times: total: 125 ms\n",
      "Wall time: 16 ms\n"
     ]
    }
   ],
   "source": [
    "b=1\n",
    "precision, recall, thresholds = precision_recall_curve(y_test.values, y_score)\n",
    "fscore = (1+b**2)*(precision * recall) / (b**2*precision + recall)\n",
    "\n",
    "ix = np.argmax(fscore)\n",
    "#print('F-Score=%.3f, Precision=%.3f, Recall=%.3f' % (fscore[ix],\n",
    "#                                                     precision[ix],\n",
    "#                                                     recall[ix]))\n",
    "\n",
    "RAS = roc_auc_score(y_test, y_score)\n",
    "\n",
    "#print(\"roc auc score: {}\".format(roc_auc_score(y_test, y_score)))\n",
    "#print(\"log loss score: {}\".format(log_loss(y_true=y_test, y_pred=pipeline.predict_proba(X_test)[:,1])))\n",
    "\n",
    "dict_rez['XGBClass'].append(fscore[ix])\n",
    "dict_rez['XGBClass'].append(precision[ix])\n",
    "dict_rez['XGBClass'].append(recall[ix])\n",
    "dict_rez['XGBClass'].append(RAS)"
   ]
  },
  {
   "cell_type": "markdown",
   "id": "25d64ccd",
   "metadata": {},
   "source": [
    "### №3 "
   ]
  },
  {
   "cell_type": "code",
   "execution_count": 13,
   "id": "327f09c6",
   "metadata": {},
   "outputs": [],
   "source": [
    "classifier = Pipeline([\n",
    "    ('features',feats),\n",
    "    ('classifier', KNeighborsClassifier(n_neighbors = 5))\n",
    "])\n",
    "\n",
    "cv_scores = cross_val_score(classifier, X_train, y_train, cv=5, scoring='roc_auc')\n",
    "cv_score = np.mean(cv_scores)\n",
    "cv_score_std = np.std(cv_scores)\n",
    "#print('CV score is {}+-{}'.format(cv_score, cv_score_std))"
   ]
  },
  {
   "cell_type": "code",
   "execution_count": 14,
   "id": "70a5b68e",
   "metadata": {},
   "outputs": [],
   "source": [
    "classifier.fit(X_train, y_train)\n",
    "y_score = classifier.predict_proba(X_test)[:, 1]"
   ]
  },
  {
   "cell_type": "code",
   "execution_count": 15,
   "id": "eb82f14a",
   "metadata": {},
   "outputs": [],
   "source": [
    "b=1\n",
    "precision, recall, thresholds = precision_recall_curve(y_test.values, y_score)\n",
    "fscore = (1+b**2)*(precision * recall) / (b**2*precision + recall)\n",
    "\n",
    "ix = np.argmax(fscore)\n",
    "#print('F-Score=%.3f, Precision=%.3f, Recall=%.3f' % (fscore[ix],\n",
    "#                                                     precision[ix],\n",
    "#                                                     recall[ix]))\n",
    "\n",
    "RAS = roc_auc_score(y_test, y_score)\n",
    "\n",
    "#print(\"roc auc score: {}\".format(roc_auc_score(y_test, y_score)))\n",
    "#print(\"log loss score: {}\".format(log_loss(y_true=y_test, y_pred=pipeline.predict_proba(X_test)[:,1])))\n",
    "\n",
    "dict_rez['KNN'].append(fscore[ix])\n",
    "dict_rez['KNN'].append(precision[ix])\n",
    "dict_rez['KNN'].append(recall[ix])\n",
    "dict_rez['KNN'].append(RAS)"
   ]
  },
  {
   "cell_type": "code",
   "execution_count": 16,
   "id": "102e75f9",
   "metadata": {},
   "outputs": [
    {
     "data": {
      "text/html": [
       "<div>\n",
       "<style scoped>\n",
       "    .dataframe tbody tr th:only-of-type {\n",
       "        vertical-align: middle;\n",
       "    }\n",
       "\n",
       "    .dataframe tbody tr th {\n",
       "        vertical-align: top;\n",
       "    }\n",
       "\n",
       "    .dataframe thead th {\n",
       "        text-align: right;\n",
       "    }\n",
       "</style>\n",
       "<table border=\"1\" class=\"dataframe\">\n",
       "  <thead>\n",
       "    <tr style=\"text-align: right;\">\n",
       "      <th></th>\n",
       "      <th>LogReg</th>\n",
       "      <th>XGBClass</th>\n",
       "      <th>KNN</th>\n",
       "    </tr>\n",
       "  </thead>\n",
       "  <tbody>\n",
       "    <tr>\n",
       "      <th>F-Score</th>\n",
       "      <td>0.730323</td>\n",
       "      <td>0.737890</td>\n",
       "      <td>0.685863</td>\n",
       "    </tr>\n",
       "    <tr>\n",
       "      <th>Precision</th>\n",
       "      <td>0.647431</td>\n",
       "      <td>0.665248</td>\n",
       "      <td>0.588468</td>\n",
       "    </tr>\n",
       "    <tr>\n",
       "      <th>Recall</th>\n",
       "      <td>0.837558</td>\n",
       "      <td>0.828341</td>\n",
       "      <td>0.821889</td>\n",
       "    </tr>\n",
       "    <tr>\n",
       "      <th>Roc_Auc_Score</th>\n",
       "      <td>0.784035</td>\n",
       "      <td>0.797228</td>\n",
       "      <td>0.694098</td>\n",
       "    </tr>\n",
       "  </tbody>\n",
       "</table>\n",
       "</div>"
      ],
      "text/plain": [
       "                 LogReg  XGBClass       KNN\n",
       "F-Score        0.730323  0.737890  0.685863\n",
       "Precision      0.647431  0.665248  0.588468\n",
       "Recall         0.837558  0.828341  0.821889\n",
       "Roc_Auc_Score  0.784035  0.797228  0.694098"
      ]
     },
     "execution_count": 16,
     "metadata": {},
     "output_type": "execute_result"
    }
   ],
   "source": [
    "df_rez = pd.DataFrame(dict_rez, index=['F-Score','Precision','Recall','Roc_Auc_Score'])\n",
    "df_rez"
   ]
  },
  {
   "cell_type": "markdown",
   "id": "605f3289",
   "metadata": {},
   "source": [
    "### Вывод:"
   ]
  },
  {
   "cell_type": "markdown",
   "id": "52372efe",
   "metadata": {},
   "source": [
    "#### Как видно из результатов, KNN показал наихудший результат. LogReg и XGBClass практически наравне, но XGBClass все же показал немного лучшие результаты, хотя время обработки заняло больше, чем у логистической регрессии, поэтому целесообразность использования бустинга под вопросом."
   ]
  },
  {
   "cell_type": "markdown",
   "id": "29a17901",
   "metadata": {},
   "source": [
    "### precision_recall_curve VS roc_auc_curve:"
   ]
  },
  {
   "cell_type": "markdown",
   "id": "1ea2bf69",
   "metadata": {},
   "source": [
    "#### Кривая ROC учитывает как положительные (TP и FN, используемые в TPR), так и отрицательные (FP и TN, используемые в FPR) примеры. То есть, даже если соотношение положительных и отрицательных примеров сильно изменится, кривая ROC существенно не изменится, и поэтому она больше подходит для оценки общей производительности классификатора, тогда как кривая PR, использующая Precision, в составе которого только positive(TP и FP), чувствительна к изменениям в распределении категорий, и полностью ориентирована на положительные примеры."
   ]
  }
 ],
 "metadata": {
  "kernelspec": {
   "display_name": "Python 3 (ipykernel)",
   "language": "python",
   "name": "python3"
  },
  "language_info": {
   "codemirror_mode": {
    "name": "ipython",
    "version": 3
   },
   "file_extension": ".py",
   "mimetype": "text/x-python",
   "name": "python",
   "nbconvert_exporter": "python",
   "pygments_lexer": "ipython3",
   "version": "3.10.4"
  }
 },
 "nbformat": 4,
 "nbformat_minor": 5
}
